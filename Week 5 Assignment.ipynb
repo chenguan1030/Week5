{
 "cells": [
  {
   "cell_type": "code",
   "execution_count": 4,
   "id": "0197c4c7",
   "metadata": {},
   "outputs": [
    {
     "name": "stdout",
     "output_type": "stream",
     "text": [
      "Checkout Processed by: Sarah Connor\n",
      "\n",
      "Books Checked Out:\n",
      "- 1984\n",
      "- Brave New World\n",
      "\n",
      "Checkout Duration: 3 weeks\n",
      "\n",
      "Additional Checkout Details:\n",
      "- Renewals Allowed: 2\n",
      "- Late Fee: $0.25\n",
      "\n",
      "Special Conditions For Checkout:\n",
      "- Handle with care\n"
     ]
    }
   ],
   "source": [
    "def checkout_books(librarian_name, *detail, duration='2 weeks', **additional_detail):\n",
    "    print(\"Checkout Processed by: \"+librarian_name)\n",
    "    print(\"\\nBooks Checked Out:\")\n",
    "    for details in detail:\n",
    "        print(\"- \"+details)\n",
    "    print(\"\\nCheckout Duration: \"+duration)\n",
    "    \n",
    "    for detail, value in additional_detail.items():\n",
    "        print()\n",
    "        print(detail.title().replace('_', ' ')+\":\")\n",
    "        for detail in value:\n",
    "            print(\"- \"+detail)\n",
    "\n",
    "# Example usage:\n",
    "checkout_books('Sarah Connor', '1984', 'Brave New World', duration='3 weeks', additional_checkout_details = {\"Late Fee: $0.25\",\"Renewals Allowed: 2\"},special_conditions_for_checkout = {\"Handle with care\"})"
   ]
  },
  {
   "cell_type": "code",
   "execution_count": null,
   "id": "7f4cd1f3",
   "metadata": {},
   "outputs": [],
   "source": []
  }
 ],
 "metadata": {
  "kernelspec": {
   "display_name": "Python 3 (ipykernel)",
   "language": "python",
   "name": "python3"
  },
  "language_info": {
   "codemirror_mode": {
    "name": "ipython",
    "version": 3
   },
   "file_extension": ".py",
   "mimetype": "text/x-python",
   "name": "python",
   "nbconvert_exporter": "python",
   "pygments_lexer": "ipython3",
   "version": "3.11.5"
  }
 },
 "nbformat": 4,
 "nbformat_minor": 5
}
